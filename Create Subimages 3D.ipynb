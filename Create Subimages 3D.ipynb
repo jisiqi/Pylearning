{
 "cells": [
  {
   "cell_type": "code",
   "execution_count": 19,
   "metadata": {},
   "outputs": [],
   "source": [
    "import tifffile\n",
    "import numpy as np\n",
    "import h5py\n",
    "import cv2\n",
    "\n",
    "import matplotlib.pyplot as plt\n",
    "%matplotlib inline"
   ]
  },
  {
   "cell_type": "markdown",
   "metadata": {},
   "source": [
    "## Creating the Training Image Database\n",
    "\n",
    "We create the training image database by extracting sub-volumes from a the original large images at a specific overlap.\n",
    "\n",
    "### Loading the training image"
   ]
  },
  {
   "cell_type": "code",
   "execution_count": 21,
   "metadata": {},
   "outputs": [
    {
     "name": "stdout",
     "output_type": "stream",
     "text": [
      "(400, 400, 400)\n"
     ]
    }
   ],
   "source": [
    "#You have to have unzipped the tif image first.\n",
    "img = tifffile.imread(\"/home/dysljxjsq/桌面/PorousMediaGan-master/data/berea/berea.tif\")\n",
    "print(img.shape)"
   ]
  },
  {
   "cell_type": "code",
   "execution_count": 22,
   "metadata": {},
   "outputs": [
    {
     "data": {
      "text/plain": [
       "<matplotlib.image.AxesImage at 0x7f482a9f1240>"
      ]
     },
     "execution_count": 22,
     "metadata": {},
     "output_type": "execute_result"
    },
    {
     "data": {
      "image/png": "[encoded data removed]",
      "text/plain": [
       "<Figure size 432x288 with 1 Axes>"
      ]
     },
     "metadata": {
      "needs_background": "light"
     },
     "output_type": "display_data"
    }
   ],
   "source": [
    "#Let's plot the typical image size so we can get an idea how big the images will be.\n",
    "plt.imshow(img[50, 0:64, 0:64], cmap=\"Greys\")"
   ]
  },
  {
   "cell_type": "code",
   "execution_count": 23,
   "metadata": {
    "slideshow": {
     "slide_type": "-"
    }
   },
   "outputs": [
    {
     "name": "stdout",
     "output_type": "stream",
     "text": [
      "1000\n"
     ]
    }
   ],
   "source": [
    "count = 0\n",
    "\n",
    "edge_length = 96 #image dimensions\n",
    "stride = 32 #stride at which images are extracted\n",
    "\n",
    "N = edge_length\n",
    "M = edge_length\n",
    "O = edge_length\n",
    "\n",
    "I_inc = stride\n",
    "J_inc = stride\n",
    "K_inc = stride\n",
    "\n",
    "#Have to have this directory to create dataset\n",
    "target_direc = \"../../../data/berea/training_images/berea_\"\n",
    "for i in range(0, img.shape[0], I_inc):\n",
    "    for j in range(0, img.shape[1], J_inc):\n",
    "        for k in range(0, img.shape[2], K_inc):\n",
    "            subset = img[i : i+N, j : j+M, k : k+O]\n",
    "            if subset.shape == (N, M, O):\n",
    "                f = h5py.File(target_direc+str(count)+\".hdf5\", \"w\")\n",
    "                f.create_dataset('data', data=subset, dtype=\"i8\", compression=\"gzip\")\n",
    "                f.close()\n",
    "                count += 1\n",
    "print(count)\n",
    "#hdf5"
   ]
  },
  {
   "cell_type": "code",
   "execution_count": null,
   "metadata": {},
   "outputs": [],
   "source": [
    "import os\n",
    "from PIL import Image\n",
    " \n",
    "filename = os.listdir(\"D:\\\\Work\\\\process\\\\样本处理\\\\polyu-all-train\")\n",
    "base_dir = \"D:\\\\Work\\\\process\\\\样本处理\\\\polyu-all-train\\\\\"\n",
    "new_dir  = \"D:\\\\Work\\\\process\\\\样本处理\\\\polyu\\\\\"\n",
    "size_m = 128\n",
    "size_n = 128\n",
    " \n",
    "for img in filename:\n",
    "    image = Image.open(base_dir + img)\n",
    "    image_size = image.resize((size_m, size_n),Image.ANTIALIAS)\n",
    "    image_size.save(new_dir+ img)\n"
   ]
  }
 ],
 "metadata": {
  "anaconda-cloud": {},
  "celltoolbar": "Slideshow",
  "kernelspec": {
   "display_name": "Python 3",
   "language": "python",
   "name": "python3"
  },
  "language_info": {
   "codemirror_mode": {
    "name": "ipython",
    "version": 3
   },
   "file_extension": ".py",
   "mimetype": "text/x-python",
   "name": "python",
   "nbconvert_exporter": "python",
   "pygments_lexer": "ipython3",
   "version": "3.7.1"
  }
 },
 "nbformat": 4,
 "nbformat_minor": 1
}
